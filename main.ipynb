{
 "cells": [
  {
   "cell_type": "code",
   "execution_count": 75,
   "metadata": {},
   "outputs": [],
   "source": [
    "from selenium import webdriver\n",
    "from selenium.webdriver.common.keys import Keys\n",
    "from bs4 import BeautifulSoup\n",
    "import re\n",
    "import pandas as pd\n",
    "import os\n",
    "import time\n",
    "from selenium.webdriver.support.ui import WebDriverWait\n",
    "from selenium.webdriver.support import expected_conditions as EC\n",
    "from selenium.webdriver.common.by import By"
   ]
  },
  {
   "cell_type": "markdown",
   "metadata": {},
   "source": [
    "## Data Scrapping\n",
    "\n",
    "- To save time, we will take the data between 1400 - 1439 for all months (Data seems huge, some years will be droped).\n",
    "- Scraping code is taking chunks (1-20, 21- 40 ... changing the chunks manually).\n"
   ]
  },
  {
   "cell_type": "code",
   "execution_count": 76,
   "metadata": {},
   "outputs": [],
   "source": [
    "url = 'https://services.amana-md.gov.sa/eservicesite/Inq/DeathInquiry.aspx'\n",
    "\n",
    "# create a new Firefox session\n",
    "driver = webdriver.Chrome('D:/Documents/GitHub/SCFHS-Challenge/chromedriver.exe')\n",
    "driver.implicitly_wait(10)\n",
    "driver.get(url)\n",
    "urls = []"
   ]
  },
  {
   "cell_type": "code",
   "execution_count": 77,
   "metadata": {},
   "outputs": [],
   "source": [
    "from selenium.webdriver.support.ui import Select\n",
    "\n",
    "\n",
    "select_from_d = Select(driver.find_element_by_id('ctl00_ContentPlaceHolder1_cboDFrom'))\n",
    "select_from_m = Select(driver.find_element_by_id('ctl00_ContentPlaceHolder1_cboMFrom')) \n",
    "select_from_y = Select(driver.find_element_by_id('ctl00_ContentPlaceHolder1_cboYFrom'))  \n",
    "\n",
    "select_to_d = Select(driver.find_element_by_id('ctl00_ContentPlaceHolder1_cboDTo'))\n",
    "select_to_m = Select(driver.find_element_by_id('ctl00_ContentPlaceHolder1_cboMTo')) \n",
    "select_to_y = Select(driver.find_element_by_id('ctl00_ContentPlaceHolder1_cboYTo'))  \n",
    "\n",
    "\n",
    "    \n",
    "#     select_from_d.select_by_visible_text('01')\n",
    "select_from_d.select_by_value('25')\n",
    "select_from_m.select_by_value('09')\n",
    "select_from_y.select_by_value('1439')\n",
    "\n",
    "select_to_d.select_by_value('30')\n",
    "select_to_m.select_by_value('09')\n",
    "select_to_y.select_by_value('1439')\n",
    "\n",
    "driver.find_element_by_id('ctl00_ContentPlaceHolder1_btnSubmit').click()\n"
   ]
  },
  {
   "cell_type": "code",
   "execution_count": 78,
   "metadata": {},
   "outputs": [],
   "source": [
    "table = driver.find_elements_by_xpath('//*[@id=\"ctl00_ContentPlaceHolder1_dgDeath\"]/tbody/tr/*')\n",
    "# deleting the head and the last row for iteration\n",
    "table = table[1:len(table) -1]\n"
   ]
  },
  {
   "cell_type": "code",
   "execution_count": 79,
   "metadata": {},
   "outputs": [],
   "source": [
    "# devide the list by the number of feature per rows (5)\n",
    "n = 5\n",
    "table = [table[i:i + n] for i in range(0, len(table), n)]"
   ]
  },
  {
   "cell_type": "code",
   "execution_count": 80,
   "metadata": {},
   "outputs": [],
   "source": [
    "names = []\n",
    "sex = []\n",
    "nationality = []\n",
    "age = []\n",
    "date_of_death = []"
   ]
  },
  {
   "cell_type": "code",
   "execution_count": 81,
   "metadata": {},
   "outputs": [],
   "source": [
    "pages = driver.find_elements_by_xpath('//*[@id=\"ctl00_ContentPlaceHolder1_dgDeath\"]/tbody/tr[78]/td/a')\n"
   ]
  },
  {
   "cell_type": "code",
   "execution_count": 82,
   "metadata": {},
   "outputs": [],
   "source": [
    "# driver.find_element_by_link_text('1').click()"
   ]
  },
  {
   "cell_type": "code",
   "execution_count": 83,
   "metadata": {},
   "outputs": [
    {
     "data": {
      "text/plain": [
       "1"
      ]
     },
     "execution_count": 83,
     "metadata": {},
     "output_type": "execute_result"
    }
   ],
   "source": [
    "len(driver.find_elements_by_xpath('//*[@id=\"ctl00_ContentPlaceHolder1_dgDeath\"]/tbody/tr[78]/td/a'))"
   ]
  },
  {
   "cell_type": "code",
   "execution_count": null,
   "metadata": {},
   "outputs": [],
   "source": [
    "table_ = []\n",
    "death = []\n",
    "i = 0\n",
    "chunk = 1\n",
    "first = True\n",
    "nextt = True\n",
    "while nextt:\n",
    "    try:\n",
    "        #Selenium hands the page source to Beautiful Soup\n",
    "        soup_level1= BeautifulSoup(driver.page_source, 'lxml')\n",
    "        death.append(soup_level1)\n",
    "\n",
    "        page_ = driver.find_elements_by_xpath('//*[@id=\"ctl00_ContentPlaceHolder1_dgDeath\"]/tbody/tr[78]/td/a')[i]\n",
    "#         print('Current page :', driver.find_elements_by_xpath('//*[@id=\"ctl00_ContentPlaceHolder1_dgDeath\"]/tbody/tr[78]/td/span')[0].text)\n",
    "#         print('Length of pages list : ', len(death))\n",
    "#         print('Click ', page_.text)\n",
    "#         print()\n",
    "        if page_.text != '...':\n",
    "            driver.find_element_by_link_text(page_.text).click()\n",
    "        \n",
    "    except:\n",
    "        \n",
    "        pass\n",
    "    \n",
    "    i += 1\n",
    "    \n",
    "    if (i > 19) & (first == True):\n",
    "        # in the first iter, from 0 to 18 (len is 20)\n",
    "        driver.find_element_by_link_text('...').click()\n",
    "        first = False\n",
    "        i = 1\n",
    "    elif (i > 20) & (first == False):\n",
    "        driver.find_elements_by_xpath('//*[@id=\"ctl00_ContentPlaceHolder1_dgDeath\"]/tbody/tr[78]/td/a')[-1].click()\n",
    "        i = 1\n",
    "    else: \n",
    "        pass\n",
    "    \n",
    "    \n",
    "    if len(driver.find_elements_by_xpath('//*[@id=\"ctl00_ContentPlaceHolder1_dgDeath\"]/tbody/tr[78]/td/a')) < 21 & (first == False):\n",
    "        nextt = False\n",
    "        break"
   ]
  },
  {
   "cell_type": "code",
   "execution_count": null,
   "metadata": {},
   "outputs": [],
   "source": [
    "i = 0\n",
    "for table in death:\n",
    "    table = table.find('table', {'id': 'ctl00_ContentPlaceHolder1_dgDeath'})\n",
    "    table = table.findAll('tr')\n",
    "    table = table[2::]\n",
    "#     table = [table[i:i + n] for i in range(0, len(table), n)]\n",
    "    for tr in table:\n",
    "        try:\n",
    "            names.append(tr.findAll('td')[0].text.strip())\n",
    "\n",
    "        except:\n",
    "            names.append('NA')\n",
    "        \n",
    "        try:\n",
    "            sex.append(tr.findAll('td')[1].text.strip())\n",
    "            \n",
    "        except:\n",
    "            sex.append('NA')\n",
    "        \n",
    "        try:\n",
    "            nationality.append(tr.findAll('td')[2].text.strip())\n",
    "        except:\n",
    "            nationality.append('NA')\n",
    "        \n",
    "        try:\n",
    "            age.append(tr.findAll('td')[3].text.strip())\n",
    "        except:\n",
    "            age.append('NA')\n",
    "        \n",
    "        try:\n",
    "            date_of_death.append(tr.findAll('td')[4].text.strip())\n",
    "        except:\n",
    "            date_of_death.append('NA')\n",
    "        "
   ]
  },
  {
   "cell_type": "code",
   "execution_count": 31,
   "metadata": {},
   "outputs": [],
   "source": [
    "# Export the dataframe\n",
    "\n",
    "df = pd.DataFrame({'name': names, 'sex': sex, 'nationality': nationality, 'age': age, 'date_of_death': date_of_death})\n",
    "df.to_csv('part1.csv',  encoding='utf-8-sig')"
   ]
  },
  {
   "cell_type": "code",
   "execution_count": 85,
   "metadata": {},
   "outputs": [],
   "source": [
    "# Due to the long of scrapping, dataset devided into some datasets.\n",
    "# load all dataset, \n",
    "filenames = ['15yrs-part1.csv', '15yrs-part2.csv', '15yrs-part3.csv', '15yrs-part4.csv', '15yrs-part5.csv']\n",
    "dfs = [pd.read_csv(filename,) for filename in filenames]\n",
    "# dfs[0].join(dfs[1:])\n",
    "df_merge = pd.concat(dfs, axis=0)\n",
    "\n",
    "# pd.join(first, scnd, third, forth, fifth, sixth)"
   ]
  },
  {
   "cell_type": "markdown",
   "metadata": {},
   "source": [
    "# Data cleaning"
   ]
  },
  {
   "cell_type": "markdown",
   "metadata": {},
   "source": [
    "- Check missing values, drop missing in date only since it's the most important thing."
   ]
  },
  {
   "cell_type": "code",
   "execution_count": 86,
   "metadata": {},
   "outputs": [
    {
     "data": {
      "text/html": [
       "<div>\n",
       "<style scoped>\n",
       "    .dataframe tbody tr th:only-of-type {\n",
       "        vertical-align: middle;\n",
       "    }\n",
       "\n",
       "    .dataframe tbody tr th {\n",
       "        vertical-align: top;\n",
       "    }\n",
       "\n",
       "    .dataframe thead th {\n",
       "        text-align: right;\n",
       "    }\n",
       "</style>\n",
       "<table border=\"1\" class=\"dataframe\">\n",
       "  <thead>\n",
       "    <tr style=\"text-align: right;\">\n",
       "      <th></th>\n",
       "      <th>Unnamed: 0</th>\n",
       "      <th>name</th>\n",
       "      <th>sex</th>\n",
       "      <th>nationality</th>\n",
       "      <th>age</th>\n",
       "      <th>date_of_death</th>\n",
       "    </tr>\n",
       "  </thead>\n",
       "  <tbody>\n",
       "    <tr>\n",
       "      <th>75</th>\n",
       "      <td>75</td>\n",
       "      <td>1 2 3 4 5 6 7 8 9 10 11 12 13 14 15 16 17 18 1...</td>\n",
       "      <td>NaN</td>\n",
       "      <td>NaN</td>\n",
       "      <td>NaN</td>\n",
       "      <td>NaN</td>\n",
       "    </tr>\n",
       "    <tr>\n",
       "      <th>151</th>\n",
       "      <td>151</td>\n",
       "      <td>1 2 3 4 5 6 7 8 9 10 11 12 13 14 15 16 17 18 1...</td>\n",
       "      <td>NaN</td>\n",
       "      <td>NaN</td>\n",
       "      <td>NaN</td>\n",
       "      <td>NaN</td>\n",
       "    </tr>\n",
       "    <tr>\n",
       "      <th>227</th>\n",
       "      <td>227</td>\n",
       "      <td>1 2 3 4 5 6 7 8 9 10 11 12 13 14 15 16 17 18 1...</td>\n",
       "      <td>NaN</td>\n",
       "      <td>NaN</td>\n",
       "      <td>NaN</td>\n",
       "      <td>NaN</td>\n",
       "    </tr>\n",
       "    <tr>\n",
       "      <th>303</th>\n",
       "      <td>303</td>\n",
       "      <td>1 2 3 4 5 6 7 8 9 10 11 12 13 14 15 16 17 18 1...</td>\n",
       "      <td>NaN</td>\n",
       "      <td>NaN</td>\n",
       "      <td>NaN</td>\n",
       "      <td>NaN</td>\n",
       "    </tr>\n",
       "    <tr>\n",
       "      <th>379</th>\n",
       "      <td>379</td>\n",
       "      <td>1 2 3 4 5 6 7 8 9 10 11 12 13 14 15 16 17 18 1...</td>\n",
       "      <td>NaN</td>\n",
       "      <td>NaN</td>\n",
       "      <td>NaN</td>\n",
       "      <td>NaN</td>\n",
       "    </tr>\n",
       "  </tbody>\n",
       "</table>\n",
       "</div>"
      ],
      "text/plain": [
       "     Unnamed: 0                                               name  sex  \\\n",
       "75           75  1 2 3 4 5 6 7 8 9 10 11 12 13 14 15 16 17 18 1...  NaN   \n",
       "151         151  1 2 3 4 5 6 7 8 9 10 11 12 13 14 15 16 17 18 1...  NaN   \n",
       "227         227  1 2 3 4 5 6 7 8 9 10 11 12 13 14 15 16 17 18 1...  NaN   \n",
       "303         303  1 2 3 4 5 6 7 8 9 10 11 12 13 14 15 16 17 18 1...  NaN   \n",
       "379         379  1 2 3 4 5 6 7 8 9 10 11 12 13 14 15 16 17 18 1...  NaN   \n",
       "\n",
       "    nationality  age date_of_death  \n",
       "75          NaN  NaN           NaN  \n",
       "151         NaN  NaN           NaN  \n",
       "227         NaN  NaN           NaN  \n",
       "303         NaN  NaN           NaN  \n",
       "379         NaN  NaN           NaN  "
      ]
     },
     "execution_count": 86,
     "metadata": {},
     "output_type": "execute_result"
    }
   ],
   "source": [
    "# Show all NaN\n",
    "df_merge[pd.isnull(df_merge).any(axis=1)] \n",
    "\n",
    "# Check missing in Date only\n",
    "df_merge['date_of_death'].isnull().any() \n",
    "df_merge[pd.isnull(df_merge['date_of_death'])][:5]"
   ]
  },
  {
   "cell_type": "code",
   "execution_count": 87,
   "metadata": {},
   "outputs": [
    {
     "data": {
      "text/html": [
       "<div>\n",
       "<style scoped>\n",
       "    .dataframe tbody tr th:only-of-type {\n",
       "        vertical-align: middle;\n",
       "    }\n",
       "\n",
       "    .dataframe tbody tr th {\n",
       "        vertical-align: top;\n",
       "    }\n",
       "\n",
       "    .dataframe thead th {\n",
       "        text-align: right;\n",
       "    }\n",
       "</style>\n",
       "<table border=\"1\" class=\"dataframe\">\n",
       "  <thead>\n",
       "    <tr style=\"text-align: right;\">\n",
       "      <th></th>\n",
       "      <th>Unnamed: 0</th>\n",
       "      <th>name</th>\n",
       "      <th>sex</th>\n",
       "      <th>nationality</th>\n",
       "      <th>age</th>\n",
       "      <th>date_of_death</th>\n",
       "    </tr>\n",
       "  </thead>\n",
       "  <tbody>\n",
       "  </tbody>\n",
       "</table>\n",
       "</div>"
      ],
      "text/plain": [
       "Empty DataFrame\n",
       "Columns: [Unnamed: 0, name, sex, nationality, age, date_of_death]\n",
       "Index: []"
      ]
     },
     "execution_count": 87,
     "metadata": {},
     "output_type": "execute_result"
    }
   ],
   "source": [
    "# Drop Nan in date\n",
    "\n",
    "import numpy as np\n",
    "df_merge.dropna(subset=['date_of_death'], inplace=True)\n",
    "\n",
    "df_merge[df_merge['date_of_death'] == np.nan]"
   ]
  },
  {
   "cell_type": "code",
   "execution_count": 88,
   "metadata": {},
   "outputs": [],
   "source": [
    "# Drop unnecessary columns\n",
    "df_merge.columns\n",
    "df_merge.drop(['Unnamed: 0'], axis=1, inplace=True)"
   ]
  },
  {
   "cell_type": "code",
   "execution_count": 89,
   "metadata": {},
   "outputs": [],
   "source": [
    "# Can't convert it to datetime type because it's out of range (1600 is the limit)\n",
    "# df_merge['date_of_death'] = pd.to_datetime(df_merge.date_of_death)\n"
   ]
  },
  {
   "cell_type": "code",
   "execution_count": 90,
   "metadata": {},
   "outputs": [
    {
     "data": {
      "text/html": [
       "<div>\n",
       "<style scoped>\n",
       "    .dataframe tbody tr th:only-of-type {\n",
       "        vertical-align: middle;\n",
       "    }\n",
       "\n",
       "    .dataframe tbody tr th {\n",
       "        vertical-align: top;\n",
       "    }\n",
       "\n",
       "    .dataframe thead th {\n",
       "        text-align: right;\n",
       "    }\n",
       "</style>\n",
       "<table border=\"1\" class=\"dataframe\">\n",
       "  <thead>\n",
       "    <tr style=\"text-align: right;\">\n",
       "      <th></th>\n",
       "      <th>name</th>\n",
       "      <th>sex</th>\n",
       "      <th>nationality</th>\n",
       "      <th>age</th>\n",
       "      <th>date_of_death</th>\n",
       "    </tr>\n",
       "  </thead>\n",
       "  <tbody>\n",
       "  </tbody>\n",
       "</table>\n",
       "</div>"
      ],
      "text/plain": [
       "Empty DataFrame\n",
       "Columns: [name, sex, nationality, age, date_of_death]\n",
       "Index: []"
      ]
     },
     "execution_count": 90,
     "metadata": {},
     "output_type": "execute_result"
    }
   ],
   "source": [
    "# Check for duplicates, i'll drop duplicate by name and date since we have many similiarities in name in saudi arabia.\n",
    "\n",
    "df_merge[df_merge.duplicated(['name', 'date_of_death'])] # duplicates are 394\n",
    "df_merge.drop_duplicates(inplace=True)\n",
    "df_merge[df_merge.duplicated()]"
   ]
  },
  {
   "cell_type": "code",
   "execution_count": 91,
   "metadata": {},
   "outputs": [],
   "source": [
    "# Export the cleaned df\n",
    "\n",
    "# df_merge.to_csv('29-39-full.csv',  encoding='utf-8-sig')\n",
    "# df_merge = pd.read_csv('29-39-full.csv')"
   ]
  },
  {
   "cell_type": "markdown",
   "metadata": {},
   "source": [
    "# Feature engineering"
   ]
  },
  {
   "cell_type": "code",
   "execution_count": 92,
   "metadata": {},
   "outputs": [],
   "source": [
    "# I will extract (y, m) manually\n",
    "\n",
    "df_merge['year'] = df_merge['date_of_death'].apply(lambda x: x.split('/')[0])\n",
    "df_merge['month'] = df_merge['date_of_death'].apply(lambda x: x.split('/')[1])\n",
    "df_merge['day'] = df_merge['date_of_death'].apply(lambda x: x.split('/')[2])\n",
    "\n",
    "\n",
    "df_merge.month.replace({'01': 1, '02': 2, '03':3, '04':4,'05':5 ,'06':6, '07':7,'08':8, '09': 9 }, inplace=True)\n",
    "df_merge.day.replace({'01': 1, '02': 2, '03':3, '04':4,'05':5 ,'06':6, '07':7,'08':8, '09': 9 }, inplace=True)\n",
    "\n",
    "\n",
    "df_merge['year'] = df_merge['year'].astype('int32')\n",
    "df_merge['month'] = df_merge['month'].astype('int32')\n",
    "df_merge['day'] = df_merge['day'].astype('int32')"
   ]
  },
  {
   "cell_type": "code",
   "execution_count": 93,
   "metadata": {},
   "outputs": [
    {
     "data": {
      "text/plain": [
       "12    6696\n",
       "4     6480\n",
       "1     6366\n",
       "9     6335\n",
       "11    6191\n",
       "5     6033\n",
       "3     5901\n",
       "6     5875\n",
       "10    5835\n",
       "8     5776\n",
       "7     5767\n",
       "2     5336\n",
       "Name: month, dtype: int64"
      ]
     },
     "execution_count": 93,
     "metadata": {},
     "output_type": "execute_result"
    }
   ],
   "source": [
    "df_merge.month.value_counts()"
   ]
  },
  {
   "cell_type": "code",
   "execution_count": 94,
   "metadata": {},
   "outputs": [
    {
     "data": {
      "text/plain": [
       "72591"
      ]
     },
     "execution_count": 94,
     "metadata": {},
     "output_type": "execute_result"
    }
   ],
   "source": [
    "len(df_merge)"
   ]
  },
  {
   "cell_type": "code",
   "execution_count": 95,
   "metadata": {},
   "outputs": [
    {
     "data": {
      "text/html": [
       "<div>\n",
       "<style scoped>\n",
       "    .dataframe tbody tr th:only-of-type {\n",
       "        vertical-align: middle;\n",
       "    }\n",
       "\n",
       "    .dataframe tbody tr th {\n",
       "        vertical-align: top;\n",
       "    }\n",
       "\n",
       "    .dataframe thead th {\n",
       "        text-align: right;\n",
       "    }\n",
       "</style>\n",
       "<table border=\"1\" class=\"dataframe\">\n",
       "  <thead>\n",
       "    <tr style=\"text-align: right;\">\n",
       "      <th></th>\n",
       "      <th>name</th>\n",
       "      <th>sex</th>\n",
       "      <th>nationality</th>\n",
       "      <th>age</th>\n",
       "      <th>date_of_death</th>\n",
       "      <th>year</th>\n",
       "      <th>month</th>\n",
       "      <th>day</th>\n",
       "    </tr>\n",
       "  </thead>\n",
       "  <tbody>\n",
       "  </tbody>\n",
       "</table>\n",
       "</div>"
      ],
      "text/plain": [
       "Empty DataFrame\n",
       "Columns: [name, sex, nationality, age, date_of_death, year, month, day]\n",
       "Index: []"
      ]
     },
     "execution_count": 95,
     "metadata": {},
     "output_type": "execute_result"
    }
   ],
   "source": [
    "df_merge[df_merge.duplicated()]"
   ]
  },
  {
   "cell_type": "markdown",
   "metadata": {},
   "source": [
    "# EDA"
   ]
  },
  {
   "cell_type": "code",
   "execution_count": 96,
   "metadata": {},
   "outputs": [],
   "source": [
    "# Max deaths happend in which month of each year?\n",
    "# Expected result should be near one if deaths across months are equals.\n",
    "# df_max = df_merge.groupby(['year', 'month'], as_index=False).sum()\n",
    "# df_merge.year.unique()\n",
    "\n",
    "years = []\n",
    "months = []\n",
    "count = []\n",
    "\n",
    "s = 0\n",
    "e = 12\n",
    "df_merge['count'] = 1\n",
    "for year in range(round(len(df_merge.groupby(['year', 'month'])['count'].sum()) / 12)):\n",
    "    dd = df_merge.groupby(['year', 'month'], as_index=False)['count'].sum()[s:e]\n",
    "#     display(dd[dd['count'] == dd['count'].values.max()])\n",
    "    years.append(dd[dd['count'] == dd['count'].values.max()]['year'].values[0])\n",
    "    months.append(dd[dd['count'] == dd['count'].values.max()]['month'].values[0])\n",
    "    count.append(dd[dd['count'] == dd['count'].values.max()]['count'].values[0])\n",
    "    s += 12\n",
    "    e += 12"
   ]
  },
  {
   "cell_type": "code",
   "execution_count": 97,
   "metadata": {},
   "outputs": [],
   "source": [
    "df_count = pd.DataFrame({'year': years, 'month': months, 'count': count})"
   ]
  },
  {
   "cell_type": "code",
   "execution_count": 98,
   "metadata": {},
   "outputs": [
    {
     "data": {
      "text/html": [
       "<div>\n",
       "<style scoped>\n",
       "    .dataframe tbody tr th:only-of-type {\n",
       "        vertical-align: middle;\n",
       "    }\n",
       "\n",
       "    .dataframe tbody tr th {\n",
       "        vertical-align: top;\n",
       "    }\n",
       "\n",
       "    .dataframe thead th {\n",
       "        text-align: right;\n",
       "    }\n",
       "</style>\n",
       "<table border=\"1\" class=\"dataframe\">\n",
       "  <thead>\n",
       "    <tr style=\"text-align: right;\">\n",
       "      <th></th>\n",
       "      <th>year</th>\n",
       "      <th>month</th>\n",
       "      <th>count</th>\n",
       "    </tr>\n",
       "  </thead>\n",
       "  <tbody>\n",
       "    <tr>\n",
       "      <th>0</th>\n",
       "      <td>1425</td>\n",
       "      <td>12</td>\n",
       "      <td>479</td>\n",
       "    </tr>\n",
       "    <tr>\n",
       "      <th>1</th>\n",
       "      <td>1426</td>\n",
       "      <td>12</td>\n",
       "      <td>485</td>\n",
       "    </tr>\n",
       "    <tr>\n",
       "      <th>2</th>\n",
       "      <td>1427</td>\n",
       "      <td>12</td>\n",
       "      <td>499</td>\n",
       "    </tr>\n",
       "    <tr>\n",
       "      <th>3</th>\n",
       "      <td>1428</td>\n",
       "      <td>1</td>\n",
       "      <td>480</td>\n",
       "    </tr>\n",
       "    <tr>\n",
       "      <th>4</th>\n",
       "      <td>1429</td>\n",
       "      <td>12</td>\n",
       "      <td>438</td>\n",
       "    </tr>\n",
       "    <tr>\n",
       "      <th>5</th>\n",
       "      <td>1430</td>\n",
       "      <td>1</td>\n",
       "      <td>345</td>\n",
       "    </tr>\n",
       "    <tr>\n",
       "      <th>6</th>\n",
       "      <td>1431</td>\n",
       "      <td>12</td>\n",
       "      <td>468</td>\n",
       "    </tr>\n",
       "    <tr>\n",
       "      <th>7</th>\n",
       "      <td>1432</td>\n",
       "      <td>9</td>\n",
       "      <td>463</td>\n",
       "    </tr>\n",
       "    <tr>\n",
       "      <th>8</th>\n",
       "      <td>1433</td>\n",
       "      <td>9</td>\n",
       "      <td>515</td>\n",
       "    </tr>\n",
       "    <tr>\n",
       "      <th>9</th>\n",
       "      <td>1434</td>\n",
       "      <td>9</td>\n",
       "      <td>480</td>\n",
       "    </tr>\n",
       "    <tr>\n",
       "      <th>10</th>\n",
       "      <td>1435</td>\n",
       "      <td>4</td>\n",
       "      <td>636</td>\n",
       "    </tr>\n",
       "    <tr>\n",
       "      <th>11</th>\n",
       "      <td>1436</td>\n",
       "      <td>4</td>\n",
       "      <td>608</td>\n",
       "    </tr>\n",
       "    <tr>\n",
       "      <th>12</th>\n",
       "      <td>1437</td>\n",
       "      <td>3</td>\n",
       "      <td>572</td>\n",
       "    </tr>\n",
       "    <tr>\n",
       "      <th>13</th>\n",
       "      <td>1438</td>\n",
       "      <td>5</td>\n",
       "      <td>561</td>\n",
       "    </tr>\n",
       "    <tr>\n",
       "      <th>14</th>\n",
       "      <td>1439</td>\n",
       "      <td>4</td>\n",
       "      <td>684</td>\n",
       "    </tr>\n",
       "  </tbody>\n",
       "</table>\n",
       "</div>"
      ],
      "text/plain": [
       "    year  month  count\n",
       "0   1425     12    479\n",
       "1   1426     12    485\n",
       "2   1427     12    499\n",
       "3   1428      1    480\n",
       "4   1429     12    438\n",
       "5   1430      1    345\n",
       "6   1431     12    468\n",
       "7   1432      9    463\n",
       "8   1433      9    515\n",
       "9   1434      9    480\n",
       "10  1435      4    636\n",
       "11  1436      4    608\n",
       "12  1437      3    572\n",
       "13  1438      5    561\n",
       "14  1439      4    684"
      ]
     },
     "execution_count": 98,
     "metadata": {},
     "output_type": "execute_result"
    }
   ],
   "source": [
    "df_count"
   ]
  },
  {
   "cell_type": "code",
   "execution_count": 99,
   "metadata": {},
   "outputs": [
    {
     "data": {
      "image/png": "[encoded data removed]",
      "text/plain": [
       "<Figure size 432x288 with 1 Axes>"
      ]
     },
     "metadata": {
      "needs_background": "light"
     },
     "output_type": "display_data"
    }
   ],
   "source": [
    "# No of deaths by year (line plot)\n",
    "\n",
    "plt.plot(df_merge.groupby(['year']).sum()['count']);"
   ]
  },
  {
   "cell_type": "code",
   "execution_count": 143,
   "metadata": {},
   "outputs": [
    {
     "name": "stdout",
     "output_type": "stream",
     "text": [
      "Avg of Shaban across 15 years :  385\n",
      "Avg of No. of death across 15 years of 11 months :  404\n"
     ]
    }
   ],
   "source": [
    "# Average deaths per month (No/11), and No of death in Shaban \n",
    "\n",
    "df_merge_shaban = df_merge[df_merge['month'] == 8].groupby('year')['count'].sum() \n",
    "df_merge_others = df_merge[df_merge['month'] != 8].groupby('year')['count'].sum() \n",
    "df_merge_others = (df_merge_others / 11).astype('int32') # 11 is the number of months\n",
    "\n",
    "\n",
    "# Avg of Shaban across 11 years\n",
    "print('Avg of Shaban across 15 years : ', round(df_merge_shaban.mean()).astype('int32'))\n",
    "\n",
    "\n",
    "# Avg of No. of death across 11 years of 11 months.\n",
    "print('Avg of No. of death across 15 years of 11 months : ',  round(df_merge_others.mean()).astype('int32') ) "
   ]
  },
  {
   "cell_type": "code",
   "execution_count": 144,
   "metadata": {},
   "outputs": [
    {
     "data": {
      "text/plain": [
       "year\n",
       "1425    340\n",
       "1426    338\n",
       "1427    346\n",
       "1428    332\n",
       "1429    303\n",
       "1430    283\n",
       "1431    378\n",
       "1432    397\n",
       "1433    430\n",
       "1434    430\n",
       "1435    481\n",
       "1436    485\n",
       "1437    510\n",
       "1438    509\n",
       "1439    505\n",
       "Name: count, dtype: int32"
      ]
     },
     "metadata": {},
     "output_type": "display_data"
    },
    {
     "data": {
      "text/plain": [
       "year\n",
       "1425    322\n",
       "1426    299\n",
       "1427    305\n",
       "1428    305\n",
       "1429    288\n",
       "1430    282\n",
       "1431    348\n",
       "1432    402\n",
       "1433    363\n",
       "1434    416\n",
       "1435    462\n",
       "1436    479\n",
       "1437    454\n",
       "1438    523\n",
       "1439    528\n",
       "Name: count, dtype: int64"
      ]
     },
     "metadata": {},
     "output_type": "display_data"
    }
   ],
   "source": [
    "display(df_merge_others, df_merge_shaban)"
   ]
  },
  {
   "cell_type": "code",
   "execution_count": 107,
   "metadata": {},
   "outputs": [
    {
     "data": {
      "text/plain": [
       "array([ 1,  2,  3,  4,  5,  6,  7,  8,  9, 10, 11, 12], dtype=int64)"
      ]
     },
     "execution_count": 107,
     "metadata": {},
     "output_type": "execute_result"
    }
   ],
   "source": [
    "df_merge.month.unique()"
   ]
  },
  {
   "cell_type": "code",
   "execution_count": 120,
   "metadata": {},
   "outputs": [
    {
     "data": {
      "image/png": "[encoded data removed]",
      "text/plain": [
       "<Figure size 1584x2160 with 15 Axes>"
      ]
     },
     "metadata": {
      "needs_background": "light"
     },
     "output_type": "display_data"
    }
   ],
   "source": [
    "\n",
    "df_merge_all = df_merge.groupby(['year', 'month'], as_index=False )['count'].sum() \n",
    "\n",
    "list__ = []\n",
    "list__.append(df_merge_all.year.unique()[0:3])\n",
    "list__.append(df_merge_all.year.unique()[3:6])\n",
    "list__.append(df_merge_all.year.unique()[6:9])\n",
    "list__.append(df_merge_all.year.unique()[9:12])\n",
    "list__.append(df_merge_all.year.unique()[12:15])\n",
    "\n",
    "fig, ax = plt.subplots(5, 3, figsize=(22,30))\n",
    "\n",
    "\n",
    "i = 0\n",
    "rows = 5\n",
    "cols = 3\n",
    "for row in range(rows):\n",
    "    for col in range(cols):\n",
    "        ax[row, col].title.set_text(list__[row][col])\n",
    "        ax[row, col].set_xlabel('Months')\n",
    "        ax[row, col].bar(df_merge_all[df_merge_all['year'] == list__[row][col]].month, \n",
    "                         df_merge_all[df_merge_all['year'] == list__[row][col]]['count'])\n",
    "        i += 1\n",
    "        if i == len(df_merge_all.year.unique()):\n",
    "            break\n",
    "        \n",
    "        \n",
    "\n"
   ]
  },
  {
   "cell_type": "markdown",
   "metadata": {},
   "source": [
    "### As we can see there is no year with max deaths occured in Shaban month."
   ]
  },
  {
   "cell_type": "markdown",
   "metadata": {},
   "source": [
    "# Modeling "
   ]
  },
  {
   "cell_type": "code",
   "execution_count": null,
   "metadata": {},
   "outputs": [],
   "source": [
    "# Compute the mean of all months except Shaban, and Shaban month"
   ]
  },
  {
   "cell_type": "code",
   "execution_count": 131,
   "metadata": {},
   "outputs": [
    {
     "data": {
      "text/plain": [
       "(404.46666666666664, 385.06666666666666, -19.399999999999977)"
      ]
     },
     "execution_count": 131,
     "metadata": {},
     "output_type": "execute_result"
    }
   ],
   "source": [
    "from scipy import stats\n",
    "\n",
    "df_merge_shaban = df_merge[df_merge['month'] == 8].groupby('year')['count'].sum() \n",
    "df_merge_others = df_merge[df_merge['month'] != 8].groupby('year')['count'].sum() \n",
    "df_merge_others = (df_merge_others / 11).astype('int32') # 11 is the number of months\n",
    "\n",
    "\n",
    "# Control is all month excluding Shaban\n",
    "# experimental is all Shaban across years\n",
    "control = df_merge_others\n",
    "experimental = df_merge_shaban\n",
    "\n",
    "control.mean(), experimental.mean(), experimental.mean() - control.mean()\n"
   ]
  },
  {
   "cell_type": "markdown",
   "metadata": {},
   "source": [
    "## We have found that the average of Shabans across 15 years is less than the average of other months, \n",
    "## we want to test if this difference by chance and prove if this difference statically signifence\n",
    "\n",
    "- H0 : There is no difference \n",
    "- H1 : There is difference between Shaban and other months \n",
    "\n",
    "# We ecpect the P-value to be high, the hypothesis test significance level to be: 0.95"
   ]
  },
  {
   "cell_type": "code",
   "execution_count": 163,
   "metadata": {},
   "outputs": [
    {
     "data": {
      "text/plain": [
       "(-0.63635854372752, 0.5297518833217733)"
      ]
     },
     "execution_count": 163,
     "metadata": {},
     "output_type": "execute_result"
    }
   ],
   "source": [
    "# Fast way with scipy.stats\n",
    "# t_test_result = stats.ttest_ind(experimental, control, equal_var=False)\n",
    "t_statistic = t_test_result[0]\n",
    "t_test_result.statistic, t_test_result.pvalue\n",
    "control.std(), experimental.std()\n",
    "print('P-value : ', t_test_result[1])"
   ]
  },
  {
   "cell_type": "markdown",
   "metadata": {},
   "source": [
    "## We can't reject due to the high P-value, we will also do bootstraping due to the few number of samples we have."
   ]
  },
  {
   "cell_type": "code",
   "execution_count": 135,
   "metadata": {},
   "outputs": [],
   "source": [
    "deaths_shaban = df_merge_shaban.values\n",
    "deaths_other = df_merge_others.values"
   ]
  },
  {
   "cell_type": "code",
   "execution_count": 159,
   "metadata": {},
   "outputs": [
    {
     "data": {
      "image/png": "[encoded data removed]",
      "text/plain": [
       "<Figure size 792x432 with 1 Axes>"
      ]
     },
     "metadata": {
      "needs_background": "light"
     },
     "output_type": "display_data"
    }
   ],
   "source": [
    "# let's try the bootstrap method, we should still get a p-value above our significance threshold\n",
    "death_diff_mean = deaths_other.mean() - deaths_shaban.mean()\n",
    "death_combined_mean = np.concatenate((deaths_shaban, deaths_other)).mean()\n",
    "\n",
    "# adjust to new mean\n",
    "deaths_per_shabans = deaths_shaban - deaths_shaban.mean() + death_combined_mean\n",
    "deaths_per_others = deaths_other - deaths_other.mean() + death_combined_mean\n",
    "\n",
    "#init lists and do random choice\n",
    "shaban_replicates = np.empty(10000)\n",
    "others_replicates = np.empty(10000)\n",
    "\n",
    "np.random.seed(42)\n",
    "for i in range(10000):\n",
    "    shaban_replicates[i] = np.random.choice(deaths_per_shabans, size=len(deaths_per_shabans)).mean()\n",
    "    others_replicates[i] = np.random.choice(deaths_per_others, size=len(deaths_per_others)).mean()\n",
    "\n",
    "bs_diff = others_replicates - shaban_replicates \n",
    "plt.figure(figsize=(11,6))\n",
    "plt.gca().set_xlim(-100,100)\n",
    "plt.gca().set_xlabel('Mean difference between Shaban-Other')\n",
    "plt.gca().set_ylabel('pdf')\n",
    "plt.gca().set_title('Distribution of mean differences between bootstrapped months for 1425-1439')\n",
    "plt.gca().axvline(death_diff_mean, color='black', lw=2, linestyle='--')\n",
    "plt.gca().text(30, .0095, 'p-value = ' + str((bs_diff >= death_diff_mean).sum() / len(bs_diff)), fontsize=15)\n",
    "sns.distplot(bs_diff, bins=40);\n"
   ]
  },
  {
   "cell_type": "markdown",
   "metadata": {},
   "source": [
    "## After doing bootstrapping, we found also the P-value to be high, therefore, we can't reject the null hypothesis, so there is no difference between Shaban and other months in terms of deaths."
   ]
  },
  {
   "cell_type": "markdown",
   "metadata": {},
   "source": [
    "-------------------------------------------------------"
   ]
  },
  {
   "cell_type": "markdown",
   "metadata": {},
   "source": [
    "-------------------------------------------------------"
   ]
  },
  {
   "cell_type": "markdown",
   "metadata": {},
   "source": [
    "# We will test this belief on other dataset (Ahsaa Dataset)"
   ]
  },
  {
   "cell_type": "markdown",
   "metadata": {},
   "source": [
    "### Data scraping"
   ]
  },
  {
   "cell_type": "code",
   "execution_count": null,
   "metadata": {},
   "outputs": [],
   "source": [
    "url = 'https://www.alhasa.gov.sa/SitePages/GetObituary.aspx'\n",
    "\n",
    "# create a new Firefox session\n",
    "driver = webdriver.Chrome('D:/Documents/GitHub/SCFHS-Challenge/chromedriver.exe')\n",
    "driver.implicitly_wait(10)\n",
    "driver.get(url)\n",
    "urls = []"
   ]
  },
  {
   "cell_type": "code",
   "execution_count": null,
   "metadata": {},
   "outputs": [],
   "source": [
    "# We have to enter the date manually due to JS pop-up calander which will take sometime to handle it by selenuim, after that run this cell\n",
    "\n",
    "table_ = []\n",
    "death = []\n",
    "nextt = True\n",
    "i = 1\n",
    "while nextt:\n",
    "    try:\n",
    "#         print('page number ', i)\n",
    "        soup_level1= BeautifulSoup(driver.page_source, 'lxml')\n",
    "        death1.append(soup_level1)\n",
    "        driver.find_element_by_xpath('//*[@id=\"ctl00_SPWebPartManager1_g_f82b5b79_188a_4cdc_a21b_8d289061bf26_ctl00_Pager_LbNext\"]').click()\n",
    "        i += 1\n",
    "    except:\n",
    "        nextt = False"
   ]
  },
  {
   "cell_type": "code",
   "execution_count": null,
   "metadata": {},
   "outputs": [],
   "source": [
    "names = []\n",
    "sex = []\n",
    "nationality = []\n",
    "age = []\n",
    "date_of_death = []\n",
    "hospital = [] \n",
    "license = []"
   ]
  },
  {
   "cell_type": "code",
   "execution_count": null,
   "metadata": {},
   "outputs": [],
   "source": [
    "i = 0\n",
    "for table in death1:\n",
    "    table = table.find('table', {'id': 'ctl00_SPWebPartManager1_g_f82b5b79_188a_4cdc_a21b_8d289061bf26_ctl00_grvResults'})\n",
    "    table = table.findAll('tr')\n",
    "    table = table[2::]\n",
    "#     table = [table[i:i + n] for i in range(0, len(table), n)]\n",
    "    for tr in table:\n",
    "        try:\n",
    "            names.append(tr.findAll('td')[0].text.strip())\n",
    "\n",
    "        except:\n",
    "            names.append('NA')\n",
    "        \n",
    "        try:\n",
    "            sex.append(tr.findAll('td')[1].text.strip())\n",
    "            \n",
    "        except:\n",
    "            sex.append('NA')\n",
    "        \n",
    "        try:\n",
    "            nationality.append(tr.findAll('td')[2].text.strip())\n",
    "        except:\n",
    "            nationality.append('NA')\n",
    "        \n",
    "        try:\n",
    "            age.append(tr.findAll('td')[3].text.strip())\n",
    "        except:\n",
    "            age.append('NA')\n",
    "        \n",
    "        try:\n",
    "            date_of_death.append(tr.findAll('td')[4].text.strip())\n",
    "        except:\n",
    "            date_of_death.append('NA')\n",
    "        \n",
    "        try:\n",
    "            hospital.append(tr.findAll('td')[5].text.strip())\n",
    "        except:\n",
    "            hospital.append('NA')\n",
    "        \n",
    "        try:\n",
    "            license.append(tr.findAll('td')[6].text.strip())\n",
    "        except:\n",
    "            license.append('NA')"
   ]
  },
  {
   "cell_type": "code",
   "execution_count": null,
   "metadata": {},
   "outputs": [],
   "source": [
    "# Export the scraped dataset \n",
    "\n",
    "df = pd.DataFrame({'name': names, 'sex': sex, 'nationality': nationality, 'age': age, 'date_of_death': date_of_death})\n",
    "df.to_csv('ahsa-part2.csv',  encoding='utf-8-sig')"
   ]
  },
  {
   "cell_type": "code",
   "execution_count": 170,
   "metadata": {},
   "outputs": [],
   "source": [
    "# Load the dataset after scraping from another notebook to save time\n",
    "df_ahsaa = pd.read_csv('ahsa-part2.csv')"
   ]
  },
  {
   "cell_type": "code",
   "execution_count": 171,
   "metadata": {},
   "outputs": [
    {
     "data": {
      "text/html": [
       "<div>\n",
       "<style scoped>\n",
       "    .dataframe tbody tr th:only-of-type {\n",
       "        vertical-align: middle;\n",
       "    }\n",
       "\n",
       "    .dataframe tbody tr th {\n",
       "        vertical-align: top;\n",
       "    }\n",
       "\n",
       "    .dataframe thead th {\n",
       "        text-align: right;\n",
       "    }\n",
       "</style>\n",
       "<table border=\"1\" class=\"dataframe\">\n",
       "  <thead>\n",
       "    <tr style=\"text-align: right;\">\n",
       "      <th></th>\n",
       "      <th>Unnamed: 0</th>\n",
       "      <th>name</th>\n",
       "      <th>sex</th>\n",
       "      <th>nationality</th>\n",
       "      <th>age</th>\n",
       "      <th>date_of_death</th>\n",
       "    </tr>\n",
       "  </thead>\n",
       "  <tbody>\n",
       "    <tr>\n",
       "      <th>0</th>\n",
       "      <td>0</td>\n",
       "      <td>ناديه علي العمران</td>\n",
       "      <td>انثى</td>\n",
       "      <td>سعودي</td>\n",
       "      <td>35</td>\n",
       "      <td>1432/05/12</td>\n",
       "    </tr>\n",
       "    <tr>\n",
       "      <th>1</th>\n",
       "      <td>1</td>\n",
       "      <td>سعد فهد العمرين</td>\n",
       "      <td>ذكر</td>\n",
       "      <td>سعودي</td>\n",
       "      <td>50</td>\n",
       "      <td>1432/08/12</td>\n",
       "    </tr>\n",
       "    <tr>\n",
       "      <th>2</th>\n",
       "      <td>2</td>\n",
       "      <td>حسن محمد علي</td>\n",
       "      <td>ذكر</td>\n",
       "      <td>سوداني</td>\n",
       "      <td>31</td>\n",
       "      <td>1432/09/07</td>\n",
       "    </tr>\n",
       "    <tr>\n",
       "      <th>3</th>\n",
       "      <td>3</td>\n",
       "      <td>فاطمه عبدالله صالح البراهيم</td>\n",
       "      <td>انثى</td>\n",
       "      <td>سعودي</td>\n",
       "      <td>46</td>\n",
       "      <td>1432/09/07</td>\n",
       "    </tr>\n",
       "    <tr>\n",
       "      <th>4</th>\n",
       "      <td>4</td>\n",
       "      <td>فيصل علي باجمعان</td>\n",
       "      <td>ذكر</td>\n",
       "      <td>هندي</td>\n",
       "      <td>45</td>\n",
       "      <td>1432/02/14</td>\n",
       "    </tr>\n",
       "  </tbody>\n",
       "</table>\n",
       "</div>"
      ],
      "text/plain": [
       "   Unnamed: 0                         name   sex nationality age date_of_death\n",
       "0           0            ناديه علي العمران  انثى       سعودي  35    1432/05/12\n",
       "1           1              سعد فهد العمرين   ذكر       سعودي  50    1432/08/12\n",
       "2           2                 حسن محمد علي   ذكر      سوداني  31    1432/09/07\n",
       "3           3  فاطمه عبدالله صالح البراهيم  انثى       سعودي  46    1432/09/07\n",
       "4           4             فيصل علي باجمعان   ذكر        هندي  45    1432/02/14"
      ]
     },
     "execution_count": 171,
     "metadata": {},
     "output_type": "execute_result"
    }
   ],
   "source": [
    "df_ahsaa.head()"
   ]
  },
  {
   "cell_type": "markdown",
   "metadata": {},
   "source": [
    "# Data Cleaning "
   ]
  },
  {
   "cell_type": "code",
   "execution_count": 173,
   "metadata": {},
   "outputs": [
    {
     "data": {
      "text/html": [
       "<div>\n",
       "<style scoped>\n",
       "    .dataframe tbody tr th:only-of-type {\n",
       "        vertical-align: middle;\n",
       "    }\n",
       "\n",
       "    .dataframe tbody tr th {\n",
       "        vertical-align: top;\n",
       "    }\n",
       "\n",
       "    .dataframe thead th {\n",
       "        text-align: right;\n",
       "    }\n",
       "</style>\n",
       "<table border=\"1\" class=\"dataframe\">\n",
       "  <thead>\n",
       "    <tr style=\"text-align: right;\">\n",
       "      <th></th>\n",
       "      <th>Unnamed: 0</th>\n",
       "      <th>name</th>\n",
       "      <th>sex</th>\n",
       "      <th>nationality</th>\n",
       "      <th>age</th>\n",
       "      <th>date_of_death</th>\n",
       "    </tr>\n",
       "  </thead>\n",
       "  <tbody>\n",
       "  </tbody>\n",
       "</table>\n",
       "</div>"
      ],
      "text/plain": [
       "Empty DataFrame\n",
       "Columns: [Unnamed: 0, name, sex, nationality, age, date_of_death]\n",
       "Index: []"
      ]
     },
     "execution_count": 173,
     "metadata": {},
     "output_type": "execute_result"
    }
   ],
   "source": [
    "# Show all NaN\n",
    "df_ahsaa[pd.isnull(df_ahsaa).any(axis=1)] \n",
    "\n",
    "# Check missing in Date only\n",
    "df_ahsaa['date_of_death'].isnull().any() \n",
    "df_ahsaa[pd.isnull(df_ahsaa['date_of_death'])][:5]"
   ]
  },
  {
   "cell_type": "code",
   "execution_count": 174,
   "metadata": {},
   "outputs": [
    {
     "data": {
      "text/html": [
       "<div>\n",
       "<style scoped>\n",
       "    .dataframe tbody tr th:only-of-type {\n",
       "        vertical-align: middle;\n",
       "    }\n",
       "\n",
       "    .dataframe tbody tr th {\n",
       "        vertical-align: top;\n",
       "    }\n",
       "\n",
       "    .dataframe thead th {\n",
       "        text-align: right;\n",
       "    }\n",
       "</style>\n",
       "<table border=\"1\" class=\"dataframe\">\n",
       "  <thead>\n",
       "    <tr style=\"text-align: right;\">\n",
       "      <th></th>\n",
       "      <th>Unnamed: 0</th>\n",
       "      <th>name</th>\n",
       "      <th>sex</th>\n",
       "      <th>nationality</th>\n",
       "      <th>age</th>\n",
       "      <th>date_of_death</th>\n",
       "    </tr>\n",
       "  </thead>\n",
       "  <tbody>\n",
       "  </tbody>\n",
       "</table>\n",
       "</div>"
      ],
      "text/plain": [
       "Empty DataFrame\n",
       "Columns: [Unnamed: 0, name, sex, nationality, age, date_of_death]\n",
       "Index: []"
      ]
     },
     "execution_count": 174,
     "metadata": {},
     "output_type": "execute_result"
    }
   ],
   "source": [
    "# Check for duplicates, i'll drop duplicate by name and date since we have many similiarities in name in saudi arabia.\n",
    "\n",
    "df_ahsaa[df_ahsaa.duplicated(['name', 'date_of_death'])] # duplicates are 394\n",
    "df_ahsaa.drop_duplicates(inplace=True)\n",
    "df_ahsaa[df_ahsaa.duplicated()]"
   ]
  },
  {
   "cell_type": "code",
   "execution_count": 175,
   "metadata": {},
   "outputs": [],
   "source": [
    "# Drop unnecessary columns\n",
    "df_ahsaa.columns\n",
    "df_ahsaa.drop(['Unnamed: 0'], axis=1, inplace=True)"
   ]
  },
  {
   "cell_type": "code",
   "execution_count": 176,
   "metadata": {},
   "outputs": [],
   "source": [
    "# I will extract (y, m) manually\n",
    "\n",
    "df_ahsaa['year'] = df_ahsaa['date_of_death'].apply(lambda x: x.split('/')[0])\n",
    "df_ahsaa['month'] = df_ahsaa['date_of_death'].apply(lambda x: x.split('/')[1])\n",
    "df_ahsaa['day'] = df_ahsaa['date_of_death'].apply(lambda x: x.split('/')[2])\n",
    "\n",
    "\n",
    "df_ahsaa.month.replace({'01': 1, '02': 2, '03':3, '04':4,'05':5 ,'06':6, '07':7,'08':8, '09': 9 }, inplace=True)\n",
    "df_ahsaa.day.replace({'01': 1, '02': 2, '03':3, '04':4,'05':5 ,'06':6, '07':7,'08':8, '09': 9 }, inplace=True)\n",
    "\n",
    "\n",
    "df_ahsaa['year'] = df_ahsaa['year'].astype('int32')\n",
    "df_ahsaa['month'] = df_ahsaa['month'].astype('int32')\n",
    "df_ahsaa['day'] = df_ahsaa['day'].astype('int32')"
   ]
  },
  {
   "cell_type": "code",
   "execution_count": 177,
   "metadata": {},
   "outputs": [
    {
     "data": {
      "text/html": [
       "<div>\n",
       "<style scoped>\n",
       "    .dataframe tbody tr th:only-of-type {\n",
       "        vertical-align: middle;\n",
       "    }\n",
       "\n",
       "    .dataframe tbody tr th {\n",
       "        vertical-align: top;\n",
       "    }\n",
       "\n",
       "    .dataframe thead th {\n",
       "        text-align: right;\n",
       "    }\n",
       "</style>\n",
       "<table border=\"1\" class=\"dataframe\">\n",
       "  <thead>\n",
       "    <tr style=\"text-align: right;\">\n",
       "      <th></th>\n",
       "      <th>name</th>\n",
       "      <th>sex</th>\n",
       "      <th>nationality</th>\n",
       "      <th>age</th>\n",
       "      <th>date_of_death</th>\n",
       "      <th>year</th>\n",
       "      <th>month</th>\n",
       "      <th>day</th>\n",
       "    </tr>\n",
       "  </thead>\n",
       "  <tbody>\n",
       "    <tr>\n",
       "      <th>0</th>\n",
       "      <td>ناديه علي العمران</td>\n",
       "      <td>انثى</td>\n",
       "      <td>سعودي</td>\n",
       "      <td>35</td>\n",
       "      <td>1432/05/12</td>\n",
       "      <td>1432</td>\n",
       "      <td>5</td>\n",
       "      <td>12</td>\n",
       "    </tr>\n",
       "    <tr>\n",
       "      <th>1</th>\n",
       "      <td>سعد فهد العمرين</td>\n",
       "      <td>ذكر</td>\n",
       "      <td>سعودي</td>\n",
       "      <td>50</td>\n",
       "      <td>1432/08/12</td>\n",
       "      <td>1432</td>\n",
       "      <td>8</td>\n",
       "      <td>12</td>\n",
       "    </tr>\n",
       "    <tr>\n",
       "      <th>2</th>\n",
       "      <td>حسن محمد علي</td>\n",
       "      <td>ذكر</td>\n",
       "      <td>سوداني</td>\n",
       "      <td>31</td>\n",
       "      <td>1432/09/07</td>\n",
       "      <td>1432</td>\n",
       "      <td>9</td>\n",
       "      <td>7</td>\n",
       "    </tr>\n",
       "    <tr>\n",
       "      <th>3</th>\n",
       "      <td>فاطمه عبدالله صالح البراهيم</td>\n",
       "      <td>انثى</td>\n",
       "      <td>سعودي</td>\n",
       "      <td>46</td>\n",
       "      <td>1432/09/07</td>\n",
       "      <td>1432</td>\n",
       "      <td>9</td>\n",
       "      <td>7</td>\n",
       "    </tr>\n",
       "    <tr>\n",
       "      <th>4</th>\n",
       "      <td>فيصل علي باجمعان</td>\n",
       "      <td>ذكر</td>\n",
       "      <td>هندي</td>\n",
       "      <td>45</td>\n",
       "      <td>1432/02/14</td>\n",
       "      <td>1432</td>\n",
       "      <td>2</td>\n",
       "      <td>14</td>\n",
       "    </tr>\n",
       "  </tbody>\n",
       "</table>\n",
       "</div>"
      ],
      "text/plain": [
       "                          name   sex nationality age date_of_death  year  \\\n",
       "0            ناديه علي العمران  انثى       سعودي  35    1432/05/12  1432   \n",
       "1              سعد فهد العمرين   ذكر       سعودي  50    1432/08/12  1432   \n",
       "2                 حسن محمد علي   ذكر      سوداني  31    1432/09/07  1432   \n",
       "3  فاطمه عبدالله صالح البراهيم  انثى       سعودي  46    1432/09/07  1432   \n",
       "4             فيصل علي باجمعان   ذكر        هندي  45    1432/02/14  1432   \n",
       "\n",
       "   month  day  \n",
       "0      5   12  \n",
       "1      8   12  \n",
       "2      9    7  \n",
       "3      9    7  \n",
       "4      2   14  "
      ]
     },
     "execution_count": 177,
     "metadata": {},
     "output_type": "execute_result"
    }
   ],
   "source": [
    "df_ahsaa.head()"
   ]
  },
  {
   "cell_type": "code",
   "execution_count": null,
   "metadata": {},
   "outputs": [],
   "source": [
    "df_ahsaa.year."
   ]
  },
  {
   "cell_type": "code",
   "execution_count": 181,
   "metadata": {},
   "outputs": [],
   "source": [
    "# Max deaths happend in which month of each year?\n",
    "# Expected result should be near one if deaths across months are equals.\n",
    "# df_max = df_merge.groupby(['year', 'month'], as_index=False).sum()\n",
    "# df_merge.year.unique()\n",
    "\n",
    "years = []\n",
    "months = []\n",
    "count = []\n",
    "\n",
    "s = 0\n",
    "e = 12\n",
    "df_ahsaa['count'] = 1\n",
    "for year in range(round(len(df_ahsaa.groupby(['year', 'month'])['count'].sum()) / 12)):\n",
    "    dd = df_ahsaa.groupby(['year', 'month'], as_index=False)['count'].sum()[s:e]\n",
    "#     display(dd[dd['count'] == dd['count'].values.max()])\n",
    "    years.append(dd[dd['count'] == dd['count'].values.max()]['year'].values[0])\n",
    "    months.append(dd[dd['count'] == dd['count'].values.max()]['month'].values[0])\n",
    "    count.append(dd[dd['count'] == dd['count'].values.max()]['count'].values[0])\n",
    "    s += 12\n",
    "    e += 12"
   ]
  },
  {
   "cell_type": "code",
   "execution_count": 182,
   "metadata": {},
   "outputs": [],
   "source": [
    "df_count = pd.DataFrame({'year': years, 'month': months, 'count': count})"
   ]
  },
  {
   "cell_type": "code",
   "execution_count": 183,
   "metadata": {},
   "outputs": [
    {
     "data": {
      "text/html": [
       "<div>\n",
       "<style scoped>\n",
       "    .dataframe tbody tr th:only-of-type {\n",
       "        vertical-align: middle;\n",
       "    }\n",
       "\n",
       "    .dataframe tbody tr th {\n",
       "        vertical-align: top;\n",
       "    }\n",
       "\n",
       "    .dataframe thead th {\n",
       "        text-align: right;\n",
       "    }\n",
       "</style>\n",
       "<table border=\"1\" class=\"dataframe\">\n",
       "  <thead>\n",
       "    <tr style=\"text-align: right;\">\n",
       "      <th></th>\n",
       "      <th>year</th>\n",
       "      <th>month</th>\n",
       "      <th>count</th>\n",
       "    </tr>\n",
       "  </thead>\n",
       "  <tbody>\n",
       "    <tr>\n",
       "      <th>0</th>\n",
       "      <td>1432</td>\n",
       "      <td>4</td>\n",
       "      <td>197</td>\n",
       "    </tr>\n",
       "    <tr>\n",
       "      <th>1</th>\n",
       "      <td>1433</td>\n",
       "      <td>11</td>\n",
       "      <td>260</td>\n",
       "    </tr>\n",
       "    <tr>\n",
       "      <th>2</th>\n",
       "      <td>1434</td>\n",
       "      <td>12</td>\n",
       "      <td>211</td>\n",
       "    </tr>\n",
       "    <tr>\n",
       "      <th>3</th>\n",
       "      <td>1435</td>\n",
       "      <td>10</td>\n",
       "      <td>476</td>\n",
       "    </tr>\n",
       "    <tr>\n",
       "      <th>4</th>\n",
       "      <td>1436</td>\n",
       "      <td>1</td>\n",
       "      <td>362</td>\n",
       "    </tr>\n",
       "    <tr>\n",
       "      <th>5</th>\n",
       "      <td>1437</td>\n",
       "      <td>4</td>\n",
       "      <td>157</td>\n",
       "    </tr>\n",
       "  </tbody>\n",
       "</table>\n",
       "</div>"
      ],
      "text/plain": [
       "   year  month  count\n",
       "0  1432      4    197\n",
       "1  1433     11    260\n",
       "2  1434     12    211\n",
       "3  1435     10    476\n",
       "4  1436      1    362\n",
       "5  1437      4    157"
      ]
     },
     "execution_count": 183,
     "metadata": {},
     "output_type": "execute_result"
    }
   ],
   "source": [
    "df_count"
   ]
  },
  {
   "cell_type": "code",
   "execution_count": 185,
   "metadata": {},
   "outputs": [
    {
     "name": "stdout",
     "output_type": "stream",
     "text": [
      "Avg of Shaban across 15 years :  185\n",
      "Avg of No. of death across 15 years of 11 months :  172\n"
     ]
    }
   ],
   "source": [
    "# Average deaths per month (No/11), and No of death in Shaban \n",
    "\n",
    "df_merge_shaban = df_ahsaa[df_ahsaa['month'] == 8].groupby('year')['count'].sum() \n",
    "df_merge_others = df_ahsaa[df_ahsaa['month'] != 8].groupby('year')['count'].sum() \n",
    "df_merge_others = (df_merge_others / 11).astype('int32') # 11 is the number of months\n",
    "\n",
    "\n",
    "# Avg of Shaban across 11 years\n",
    "print('Avg of Shaban across 5 years : ', round(df_merge_shaban.mean()).astype('int32'))\n",
    "\n",
    "\n",
    "# Avg of No. of death across 11 years of 11 months.\n",
    "print('Avg of No. of death across 5 years of 11 months : ',  round(df_merge_others.mean()).astype('int32') ) "
   ]
  },
  {
   "cell_type": "code",
   "execution_count": null,
   "metadata": {},
   "outputs": [],
   "source": [
    "# As we can see, there is a difference bet"
   ]
  },
  {
   "cell_type": "markdown",
   "metadata": {},
   "source": [
    "# Time is up :)"
   ]
  },
  {
   "cell_type": "code",
   "execution_count": null,
   "metadata": {},
   "outputs": [],
   "source": []
  }
 ],
 "metadata": {
  "kernelspec": {
   "display_name": "Python 3",
   "language": "python",
   "name": "python3"
  },
  "language_info": {
   "codemirror_mode": {
    "name": "ipython",
    "version": 3
   },
   "file_extension": ".py",
   "mimetype": "text/x-python",
   "name": "python",
   "nbconvert_exporter": "python",
   "pygments_lexer": "ipython3",
   "version": "3.6.1"
  }
 },
 "nbformat": 4,
 "nbformat_minor": 2
}
